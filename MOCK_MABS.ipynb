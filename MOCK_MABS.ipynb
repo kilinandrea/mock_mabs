{
  "nbformat": 4,
  "nbformat_minor": 0,
  "metadata": {
    "colab": {
      "provenance": [],
      "authorship_tag": "ABX9TyNDkbov8NyQaNjnC72+Dp+2",
      "include_colab_link": true
    },
    "kernelspec": {
      "name": "python3",
      "display_name": "Python 3"
    },
    "language_info": {
      "name": "python"
    }
  },
  "cells": [
    {
      "cell_type": "markdown",
      "metadata": {
        "id": "view-in-github",
        "colab_type": "text"
      },
      "source": [
        "<a href=\"https://colab.research.google.com/github/kilinandrea/mock_mabs/blob/main/MOCK_MABS.ipynb\" target=\"_parent\"><img src=\"https://colab.research.google.com/assets/colab-badge.svg\" alt=\"Open In Colab\"/></a>"
      ]
    },
    {
      "cell_type": "code",
      "source": [
        "import pandas as pd"
      ],
      "metadata": {
        "id": "bEIlhYBXqHjt"
      },
      "execution_count": 1,
      "outputs": []
    },
    {
      "cell_type": "code",
      "execution_count": 6,
      "metadata": {
        "colab": {
          "base_uri": "https://localhost:8080/"
        },
        "id": "hhLh5sVNm6q8",
        "outputId": "51b48c77-c005-4f68-bad6-98f6b70bfeb1"
      },
      "outputs": [
        {
          "output_type": "stream",
          "name": "stdout",
          "text": [
            "   Experiment  Ligand Density (mol/m^2)  Pore Size (nm)  pH  \\\n",
            "0           1                       200              50   7   \n",
            "1           2                       250              60   7   \n",
            "2           3                       180              55   8   \n",
            "3           4                       220              65   7   \n",
            "4           5                       240              50   8   \n",
            "5           6                       200              60   8   \n",
            "6           7                       230              55   7   \n",
            "7           8                       210              70   8   \n",
            "8           9                       220              60   8   \n",
            "9          10                       190              50   7   \n",
            "\n",
            "   Salt Concentration (mM)  Binding Capacity (mg/mL)  Selectivity  \\\n",
            "0                      100                      10.0         0.85   \n",
            "1                      150                      12.0         0.88   \n",
            "2                      120                       9.5         0.82   \n",
            "3                      100                      11.0         0.86   \n",
            "4                      150                      11.5         0.87   \n",
            "5                      120                      10.5         0.84   \n",
            "6                      130                      10.8         0.85   \n",
            "7                      140                      11.2         0.87   \n",
            "8                      110                      10.2         0.83   \n",
            "9                      140                       9.8         0.81   \n",
            "\n",
            "   Purification Efficiency (%)  \n",
            "0                           90  \n",
            "1                           92  \n",
            "2                           88  \n",
            "3                           91  \n",
            "4                           92  \n",
            "5                           89  \n",
            "6                           91  \n",
            "7                           90  \n",
            "8                           88  \n",
            "9                           87  \n"
          ]
        }
      ],
      "source": [
        "# Create a dictionary with the data\n",
        "data = {\n",
        "    'Experiment': [1, 2, 3, 4, 5, 6, 7, 8, 9, 10],\n",
        "    'Ligand Density (mol/m^2)': [200, 250, 180, 220, 240, 200, 230, 210, 220, 190],\n",
        "    'Pore Size (nm)': [50, 60, 55, 65, 50, 60, 55, 70, 60, 50],\n",
        "    'pH': [7, 7, 8, 7, 8, 8, 7, 8, 8, 7],\n",
        "    'Salt Concentration (mM)': [100, 150, 120, 100, 150, 120, 130, 140, 110, 140],\n",
        "    'Binding Capacity (mg/mL)': [10, 12, 9.5, 11, 11.5, 10.5, 10.8, 11.2, 10.2, 9.8],\n",
        "    'Selectivity': [0.85, 0.88, 0.82, 0.86, 0.87, 0.84, 0.85, 0.87, 0.83, 0.81],\n",
        "    'Purification Efficiency (%)': [90, 92, 88, 91, 92, 89, 91, 90, 88, 87]\n",
        "}\n",
        "\n",
        "# Create a DataFrame from the dictionary\n",
        "df = pd.DataFrame(data)\n",
        "\n",
        "# Print the DataFrame\n",
        "print(df)\n"
      ]
    },
    {
      "cell_type": "markdown",
      "source": [
        "If we only had one attribute to evaluate, we could use Pearson correlation coefficient for each performance indicator.\n",
        "\n",
        "Example:"
      ],
      "metadata": {
        "id": "Omf9jTCgzXUr"
      }
    },
    {
      "cell_type": "code",
      "source": [
        "from scipy.stats import pearsonr\n",
        "\n",
        "# Statistical analysis: Pearson correlation coefficient for Binding capacity\n",
        "correlation_coefficient, p_value = pearsonr(df['Ligand Density (mol/m^2)'], df['Binding Capacity (mg/mL)'])\n",
        "print(f\"Pearson correlation coefficient for Ligand Density (mol/m^2): {correlation_coefficient}, p-value: {p_value}\")\n",
        "\n",
        "correlation_coefficient, p_value = pearsonr(df['Pore Size (nm)'], df['Binding Capacity (mg/mL)'])\n",
        "print(f\"Pearson correlation coefficient for Pore Size (nm): {correlation_coefficient}, p-value: {p_value}\")\n",
        "\n",
        "correlation_coefficient, p_value = pearsonr(df['pH'], df['Binding Capacity (mg/mL)'])\n",
        "print(f\"Pearson correlation coefficient for pH: {correlation_coefficient}, p-value: {p_value}\")\n",
        "\n",
        "correlation_coefficient, p_value = pearsonr(df['Salt Concentration (mM)'], df['Binding Capacity (mg/mL)'])\n",
        "print(f\"Pearson correlation coefficient for Salt Concentration (mM): {correlation_coefficient}, p-value: {p_value}\")\n",
        "\n",
        "\n"
      ],
      "metadata": {
        "colab": {
          "base_uri": "https://localhost:8080/"
        },
        "id": "FqLCQKzVsczp",
        "outputId": "e85aeae6-9ad8-4f1a-f5a5-f47cb9f6bff2"
      },
      "execution_count": 13,
      "outputs": [
        {
          "output_type": "stream",
          "name": "stdout",
          "text": [
            "Pearson correlation coefficient for Ligand Density (mol/m^2): 0.8874878029018246, p-value: 0.0006108026171956078\n",
            "Pearson correlation coefficient for Pore Size (nm): 0.3871899366120872, p-value: 0.268983877124663\n",
            "Pearson correlation coefficient for pH: -0.0928395027074834, p-value: 0.7986549909866878\n",
            "Pearson correlation coefficient for Salt Concentration (mM): 0.53051144404276, p-value: 0.11466070187830303\n"
          ]
        }
      ]
    },
    {
      "cell_type": "markdown",
      "source": [
        "Similarly, we could vizualize it as a scatterplot such as:"
      ],
      "metadata": {
        "id": "0o5tKIgEz0WL"
      }
    },
    {
      "cell_type": "code",
      "source": [
        "import matplotlib.pyplot as plt\n",
        "import seaborn as sns\n",
        "\n",
        "# EDA: Scatter plot of binding capacity vs. ligand density\n",
        "plt.figure(figsize=(8, 6))\n",
        "sns.scatterplot(x='Ligand Density (mol/m^2)', y='Binding Capacity (mg/mL)', data=df)\n",
        "sns.regplot(x='Ligand Density (mol/m^2)', y='Binding Capacity (mg/mL)', data=df, scatter=False, color='yellow')  # Add regression line\n",
        "plt.xlabel('Ligand Density')\n",
        "plt.ylabel('Binding Capacity')\n",
        "plt.title('Binding Capacity vs. Ligand Density with Regression Line')\n",
        "plt.show()\n"
      ],
      "metadata": {
        "colab": {
          "base_uri": "https://localhost:8080/",
          "height": 564
        },
        "id": "vA3-ONnesHBz",
        "outputId": "82f7bd50-9677-4237-9c6b-eee511be71a2"
      },
      "execution_count": 10,
      "outputs": [
        {
          "output_type": "display_data",
          "data": {
            "text/plain": [
              "<Figure size 800x600 with 1 Axes>"
            ],
            "image/png": "[encoded data removed]"
          },
          "metadata": {}
        }
      ]
    },
    {
      "cell_type": "markdown",
      "source": [
        "However, we have four attributes to find the relationship to three performance indicators. All attributes are continuous predictors, so we will use the OLS regression test."
      ],
      "metadata": {
        "id": "CUVpDI16z7H4"
      }
    },
    {
      "cell_type": "code",
      "source": [
        "import statsmodels.api as sm\n",
        "import numpy as np\n",
        "\n",
        "# Define independent variables (excluding constant)\n",
        "X = df[['Ligand Density (mol/m^2)', 'Pore Size (nm)', 'pH', 'Salt Concentration (mM)']]\n",
        "\n",
        "# Add constant term\n",
        "X = sm.add_constant(X)\n",
        "\n",
        "# Define dependent variable\n",
        "y = df['Binding Capacity (mg/mL)']\n",
        "\n",
        "# Fit OLS regression model\n",
        "model = sm.OLS(y, X).fit()\n",
        "\n",
        "# Print summary statistics\n",
        "print(model.summary())\n"
      ],
      "metadata": {
        "colab": {
          "base_uri": "https://localhost:8080/"
        },
        "id": "AVyQJ8zUt2LC",
        "outputId": "bf6a9f0d-283e-44c9-dd90-57e065eba305"
      },
      "execution_count": 11,
      "outputs": [
        {
          "output_type": "stream",
          "name": "stdout",
          "text": [
            "                               OLS Regression Results                               \n",
            "====================================================================================\n",
            "Dep. Variable:     Binding Capacity (mg/mL)   R-squared:                       0.909\n",
            "Model:                                  OLS   Adj. R-squared:                  0.837\n",
            "Method:                       Least Squares   F-statistic:                     12.52\n",
            "Date:                      Sat, 06 Apr 2024   Prob (F-statistic):            0.00813\n",
            "Time:                              09:22:49   Log-Likelihood:                0.63045\n",
            "No. Observations:                        10   AIC:                             8.739\n",
            "Df Residuals:                             5   BIC:                             10.25\n",
            "Df Model:                                 4                                         \n",
            "Covariance Type:                  nonrobust                                         \n",
            "============================================================================================\n",
            "                               coef    std err          t      P>|t|      [0.025      0.975]\n",
            "--------------------------------------------------------------------------------------------\n",
            "const                        2.2675      2.058      1.102      0.321      -3.024       7.559\n",
            "Ligand Density (mol/m^2)     0.0257      0.006      4.497      0.006       0.011       0.040\n",
            "Pore Size (nm)               0.0374      0.017      2.190      0.080      -0.007       0.081\n",
            "pH                          -0.0918      0.223     -0.412      0.698      -0.665       0.482\n",
            "Salt Concentration (mM)      0.0113      0.007      1.732      0.144      -0.005       0.028\n",
            "==============================================================================\n",
            "Omnibus:                        1.542   Durbin-Watson:                   1.666\n",
            "Prob(Omnibus):                  0.462   Jarque-Bera (JB):                0.966\n",
            "Skew:                          -0.702   Prob(JB):                        0.617\n",
            "Kurtosis:                       2.412   Cond. No.                     5.20e+03\n",
            "==============================================================================\n",
            "\n",
            "Notes:\n",
            "[1] Standard Errors assume that the covariance matrix of the errors is correctly specified.\n",
            "[2] The condition number is large, 5.2e+03. This might indicate that there are\n",
            "strong multicollinearity or other numerical problems.\n"
          ]
        },
        {
          "output_type": "stream",
          "name": "stderr",
          "text": [
            "/usr/local/lib/python3.10/dist-packages/scipy/stats/_stats_py.py:1806: UserWarning: kurtosistest only valid for n>=20 ... continuing anyway, n=10\n",
            "  warnings.warn(\"kurtosistest only valid for n>=20 ... continuing \"\n"
          ]
        }
      ]
    },
    {
      "cell_type": "markdown",
      "source": [
        "Bases on the OLS results, we can remove two predictors as their p-values are above 0.05.  The ones we discard are pH levels and salt concentration."
      ],
      "metadata": {
        "id": "ta7Xrj5z0Soi"
      }
    },
    {
      "cell_type": "code",
      "source": [
        "# Define independent variables (excluding constant)\n",
        "X = df[['Ligand Density (mol/m^2)', 'Pore Size (nm)']]\n",
        "\n",
        "# Add constant term\n",
        "X = sm.add_constant(X)\n",
        "\n",
        "# Define dependent variable\n",
        "y = df['Binding Capacity (mg/mL)']\n",
        "\n",
        "# Fit OLS regression model\n",
        "model = sm.OLS(y, X).fit()\n",
        "\n",
        "# Print summary statistics\n",
        "print(model.summary())"
      ],
      "metadata": {
        "colab": {
          "base_uri": "https://localhost:8080/"
        },
        "id": "JoB0jmEp0iMo",
        "outputId": "e162985d-c3dc-40a8-c455-5d1afba920fa"
      },
      "execution_count": 22,
      "outputs": [
        {
          "output_type": "stream",
          "name": "stdout",
          "text": [
            "                               OLS Regression Results                               \n",
            "====================================================================================\n",
            "Dep. Variable:     Binding Capacity (mg/mL)   R-squared:                       0.855\n",
            "Model:                                  OLS   Adj. R-squared:                  0.813\n",
            "Method:                       Least Squares   F-statistic:                     20.58\n",
            "Date:                      Sat, 06 Apr 2024   Prob (F-statistic):            0.00117\n",
            "Time:                              09:52:01   Log-Likelihood:                -1.7225\n",
            "No. Observations:                        10   AIC:                             9.445\n",
            "Df Residuals:                             7   BIC:                             10.35\n",
            "Df Model:                                 2                                         \n",
            "Covariance Type:                  nonrobust                                         \n",
            "============================================================================================\n",
            "                               coef    std err          t      P>|t|      [0.025      0.975]\n",
            "--------------------------------------------------------------------------------------------\n",
            "const                        2.3834      1.378      1.729      0.127      -0.876       5.642\n",
            "Ligand Density (mol/m^2)     0.0304      0.005      5.826      0.001       0.018       0.043\n",
            "Pore Size (nm)               0.0307      0.017      1.797      0.115      -0.010       0.071\n",
            "==============================================================================\n",
            "Omnibus:                        7.983   Durbin-Watson:                   2.885\n",
            "Prob(Omnibus):                  0.018   Jarque-Bera (JB):                3.284\n",
            "Skew:                          -1.309   Prob(JB):                        0.194\n",
            "Kurtosis:                       4.013   Cond. No.                     2.82e+03\n",
            "==============================================================================\n",
            "\n",
            "Notes:\n",
            "[1] Standard Errors assume that the covariance matrix of the errors is correctly specified.\n",
            "[2] The condition number is large, 2.82e+03. This might indicate that there are\n",
            "strong multicollinearity or other numerical problems.\n"
          ]
        },
        {
          "output_type": "stream",
          "name": "stderr",
          "text": [
            "/usr/local/lib/python3.10/dist-packages/scipy/stats/_stats_py.py:1806: UserWarning: kurtosistest only valid for n>=20 ... continuing anyway, n=10\n",
            "  warnings.warn(\"kurtosistest only valid for n>=20 ... continuing \"\n"
          ]
        }
      ]
    },
    {
      "cell_type": "markdown",
      "source": [
        "In this new combination, we observe that really only **ligand density** has a statistically relevant impact on binding capacity:\n",
        "R squared is 0.855 which shows this model as a **good fit**, while F's p-value is 0.00117, less than 0.05 so we know this is **statistically relevant with 95% confidence.**"
      ],
      "metadata": {
        "id": "QCHjZGWl02mb"
      }
    },
    {
      "cell_type": "markdown",
      "source": [
        "Our sample size is quite small for a reliable predictive model, but let's go through the motions:"
      ],
      "metadata": {
        "id": "ITEkRLWu1iLd"
      }
    },
    {
      "cell_type": "code",
      "source": [
        "from sklearn.model_selection import train_test_split\n",
        "from sklearn.linear_model import LinearRegression\n",
        "from sklearn.metrics import mean_squared_error, r2_score\n",
        "\n",
        "# FOR BINDING CAPACITY\n",
        "\n",
        "# Step 1: Prepare the data\n",
        "X = df[['Ligand Density (mol/m^2)', 'Pore Size (nm)', 'pH', 'Salt Concentration (mM)']]\n",
        "y = df['Binding Capacity (mg/mL)']\n",
        "\n",
        "# Step 2: Split the data into training and testing sets\n",
        "X_train, X_test, y_train, y_test = train_test_split(X, y, test_size=0.2, random_state=42)\n",
        "\n",
        "# Step 3: Choose a model and train it\n",
        "model = LinearRegression()\n",
        "model.fit(X_train, y_train)\n",
        "\n",
        "# Step 4: Model evaluation\n",
        "y_pred = model.predict(X_test)\n",
        "mse = mean_squared_error(y_test, y_pred)\n",
        "r2 = r2_score(y_test, y_pred)\n",
        "\n",
        "print(\"Mean Squared Error:\", mse)\n",
        "print(\"R-squared:\", r2)\n",
        "\n",
        "\n"
      ],
      "metadata": {
        "colab": {
          "base_uri": "https://localhost:8080/"
        },
        "id": "-vPpjZxSwMhG",
        "outputId": "7e7052d7-33e4-495f-9916-799d819835b6"
      },
      "execution_count": 16,
      "outputs": [
        {
          "output_type": "stream",
          "name": "stdout",
          "text": [
            "Mean Squared Error: 0.3441507128333223\n",
            "R-squared: 0.5751225767489851\n"
          ]
        }
      ]
    },
    {
      "cell_type": "code",
      "source": [
        "# for SELECTIVITY\n",
        "\n",
        "# Step 1: Prepare the data\n",
        "X = df[['Ligand Density (mol/m^2)', 'Pore Size (nm)']]\n",
        "y = df['Binding Capacity (mg/mL)']\n",
        "\n",
        "# Step 2: Split the data into training and testing sets\n",
        "X_train, X_test, y_train, y_test = train_test_split(X, y, test_size=0.2, random_state=42)\n",
        "\n",
        "# Step 3: Choose a model and train it\n",
        "model = LinearRegression()\n",
        "model.fit(X_train, y_train)\n",
        "\n",
        "# Step 4: Model evaluation\n",
        "y_pred = model.predict(X_test)\n",
        "mse = mean_squared_error(y_test, y_pred)\n",
        "r2 = r2_score(y_test, y_pred)\n",
        "\n",
        "print(\"Mean Squared Error:\", mse)\n",
        "print(\"R-squared:\", r2)\n",
        "\n",
        "\n"
      ],
      "metadata": {
        "colab": {
          "base_uri": "https://localhost:8080/"
        },
        "id": "O2hKLgskwYkk",
        "outputId": "59aa5434-23c4-465e-92c2-aab80e309b53"
      },
      "execution_count": 17,
      "outputs": [
        {
          "output_type": "stream",
          "name": "stdout",
          "text": [
            "Mean Squared Error: 0.31614469565507014\n",
            "R-squared: 0.6096979065986792\n"
          ]
        }
      ]
    },
    {
      "cell_type": "code",
      "source": [
        "# FOR PURIFICATION EFFICIENCY\n",
        "\n",
        "# Step 1: Prepare the data\n",
        "X = df[['Ligand Density (mol/m^2)', 'Pore Size (nm)', 'pH', 'Salt Concentration (mM)']]\n",
        "y = df['Purification Efficiency (%)']\n",
        "\n",
        "# Step 2: Split the data into training and testing sets\n",
        "X_train, X_test, y_train, y_test = train_test_split(X, y, test_size=0.2, random_state=42)\n",
        "\n",
        "# Step 3: Choose a model and train it\n",
        "model = LinearRegression()\n",
        "model.fit(X_train, y_train)\n",
        "\n",
        "# Step 4: Model evaluation\n",
        "y_pred = model.predict(X_test)\n",
        "mse = mean_squared_error(y_test, y_pred)\n",
        "r2 = r2_score(y_test, y_pred)\n",
        "\n",
        "print(\"Mean Squared Error:\", mse)\n",
        "print(\"R-squared:\", r2)\n",
        "\n",
        "\n"
      ],
      "metadata": {
        "colab": {
          "base_uri": "https://localhost:8080/"
        },
        "id": "KFSyeEuawjPc",
        "outputId": "a1ac324f-7112-4992-a553-a4aa74d417b1"
      },
      "execution_count": 20,
      "outputs": [
        {
          "output_type": "stream",
          "name": "stdout",
          "text": [
            "Mean Squared Error: 6.733059567469347\n",
            "R-squared: -0.6832648918673367\n"
          ]
        }
      ]
    },
    {
      "cell_type": "code",
      "source": [
        "import statsmodels.api as sm\n",
        "from statsmodels.formula.api import ols\n",
        "\n",
        "# Define the ANOVA model using a formula\n",
        "formula = 'Q(\"Binding Capacity (mg/mL)\") ~ Q(\"Ligand Density (mol/m^2)\") + Q(\"Pore Size (nm)\") + Q(\"pH\") + Q(\"Salt Concentration (mM)\")'\n",
        "model = ols(formula, data=df).fit()\n",
        "\n",
        "# Perform ANOVA\n",
        "anova_table = sm.stats.anova_lm(model, typ=2)\n",
        "print(anova_table)\n"
      ],
      "metadata": {
        "colab": {
          "base_uri": "https://localhost:8080/"
        },
        "id": "_8KF6n3wwqR-",
        "outputId": "9d7dde8d-984c-4e57-e809-86e260bca2e8"
      },
      "execution_count": 21,
      "outputs": [
        {
          "output_type": "stream",
          "name": "stdout",
          "text": [
            "                                 sum_sq   df          F    PR(>F)\n",
            "Q(\"Ligand Density (mol/m^2)\")  2.087176  1.0  20.219172  0.006420\n",
            "Q(\"Pore Size (nm)\")            0.494880  1.0   4.794072  0.080143\n",
            "Q(\"pH\")                        0.017491  1.0   0.169446  0.697656\n",
            "Q(\"Salt Concentration (mM)\")   0.309842  1.0   3.001546  0.143728\n",
            "Residual                       0.516138  5.0        NaN       NaN\n"
          ]
        }
      ]
    }
  ]
}